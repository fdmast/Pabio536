{
 "cells": [
  {
   "cell_type": "markdown",
   "metadata": {},
   "source": [
    "# Scientific Python Basics"
   ]
  },
  {
   "cell_type": "markdown",
   "metadata": {},
   "source": [
    "*Prepared by: Tige Rustad*\n",
    "\n",
    "*Heavily modified from the Software Carpentry Ipython [notebook](https://swcarpentry.github.io/2014-03-17-ucb/lessons/tkcm-python/index.html) developed by Cindee Madison and Thomas Kluyver*"
   ]
  },
  {
   "cell_type": "markdown",
   "metadata": {},
   "source": [
    "## 0. Python and Jupyter notebooks\n",
    "\n",
    "Why python and Jupyter? Python syntax is simpler than most other languages and there is a wealth of libraries available for free. Jupyter notebooks are a convenient way to run python from inside an internet browser while adding commentary. \n",
    "\n",
    " - What is the kernel?\n",
    " - Command mode\n",
    " - Keyboard commands\n",
    " - Cell types\n",
    " - Adding, moving, editing, and running cells\n",
    " - Simple markdown [(using this cheatsheet)](https://medium.com/ibm-data-science-experience/markdown-for-jupyter-notebooks-cheatsheet-386c05aeebed)"
   ]
  },
  {
   "cell_type": "code",
   "execution_count": 1,
   "metadata": {},
   "outputs": [],
   "source": [
    "# This is a code cell, where we can type in and run chuncks of code\n",
    "# Anything that comes after a hash symbol (#) is a comment, and won't be run\n",
    "# You can use this to leave notes, or to 'disable' a line of code without deleting it\n",
    "\n",
    "# Click the run button \n",
    "# Notice how this cell now has an index number (e.g. In [1])\n",
    "# While Jupyter is running code it will show In [*], but it's often too fast to see "
   ]
  },
  {
   "cell_type": "markdown",
   "metadata": {},
   "source": [
    "__TIP2:__ To run the code in a cell quickly, press Ctrl-Enter."
   ]
  },
  {
   "cell_type": "markdown",
   "metadata": {},
   "source": [
    "__TIP1:__ To enter command mode press `Esc`. You can then add cells by pressing `b` for below or `a` for above. CLick on the keyboard icon above to see more shortcut keys."
   ]
  },
  {
   "cell_type": "markdown",
   "metadata": {},
   "source": [
    "## 1. Variables\n",
    "\n",
    "The most basic component of any programming language are \"things\", AKA variables.\n",
    "\n",
    "The most common basic \"things\" in Python are integers, floats, strings, booleans, and various types\n",
    "things called an \"object\"  . \n",
    "\n",
    "Try entering various things in the code cells below and then run the cell with Ctrl-Enter."
   ]
  },
  {
   "cell_type": "code",
   "execution_count": 2,
   "metadata": {},
   "outputs": [],
   "source": [
    "None   # An integer"
   ]
  },
  {
   "cell_type": "code",
   "execution_count": 3,
   "metadata": {},
   "outputs": [],
   "source": [
    "None   # A floating point number"
   ]
  },
  {
   "cell_type": "code",
   "execution_count": 4,
   "metadata": {},
   "outputs": [],
   "source": [
    "None   # A boolean value (True or False, And Capitalization Matters!)"
   ]
  },
  {
   "cell_type": "code",
   "execution_count": 5,
   "metadata": {},
   "outputs": [],
   "source": [
    "None   # A string (A series of charachters surrounded by single or double quotes)"
   ]
  },
  {
   "cell_type": "code",
   "execution_count": 6,
   "metadata": {},
   "outputs": [],
   "source": [
    "# Try to run this cell with two of the things from above\n",
    "None\n",
    "None"
   ]
  },
  {
   "cell_type": "code",
   "execution_count": 7,
   "metadata": {},
   "outputs": [
    {
     "name": "stdout",
     "output_type": "stream",
     "text": [
      "None\n",
      "None\n"
     ]
    }
   ],
   "source": [
    "# You can show multiple results using the print() command\n",
    "# Try the same two variables using print()\n",
    "print(None)\n",
    "print(None)"
   ]
  },
  {
   "cell_type": "markdown",
   "metadata": {},
   "source": [
    "#### Making named variables\n",
    "You can assign variables using the equal sign. The name of the variable can only begin with an underscore or a letter (a-z, A-Z) which can be followed by letters, numbers (0-9) and underscores. For example: user_name, count, __name, pw123, etc. Use descriptive names, and don't worry too much about length! You can use tab autocomplete for variables. "
   ]
  },
  {
   "cell_type": "markdown",
   "metadata": {},
   "source": [
    "#### Python Variable Naming Conventions\n",
    "Apart from the above-listed rules, there are some variable naming conventions the python community follows.\n",
    "\n",
    " - Variable name must be readable and descriptive. \n",
    " - Avoid using single letters like a, b, x, y, etc. as variable names: they don’t really explain anything about the nature of variables.\n",
    " - Even though you can create variables name with any length, it is recommended to maintain the length so that it is easy to read."
   ]
  },
  {
   "cell_type": "code",
   "execution_count": 8,
   "metadata": {},
   "outputs": [
    {
     "name": "stdout",
     "output_type": "stream",
     "text": [
      "1.972 2 Mycobacterium tuberculosis True\n"
     ]
    }
   ],
   "source": [
    "# Let's store some things as variables\n",
    "observed_fold_change = 1.972\n",
    "significant_fold_change = 2\n",
    "pathogen = 'Mycobacterium tuberculosis'\n",
    "acr_induced_hypoxia = True  # Remember, this is case sensitive\n",
    "\n",
    "print(observed_fold_change, significant_fold_change, pathogen, acr_induced_hypoxia)"
   ]
  },
  {
   "cell_type": "code",
   "execution_count": 9,
   "metadata": {},
   "outputs": [
    {
     "name": "stdout",
     "output_type": "stream",
     "text": [
      "<class 'NoneType'>\n",
      "<class 'NoneType'>\n",
      "<class 'NoneType'>\n",
      "<class 'NoneType'>\n"
     ]
    }
   ],
   "source": [
    "# The type() function tells us the type of thing we have\n",
    "# Check the type of the variables from above\n",
    "# Try out tab autocompletion\n",
    "\n",
    "print(type(None))\n",
    "print(type(None))\n",
    "print(type(None))\n",
    "print(type(None))"
   ]
  },
  {
   "cell_type": "code",
   "execution_count": 10,
   "metadata": {},
   "outputs": [],
   "source": [
    "# What happens when a new variable points to a previous variable?\n",
    "prior_sig_fc = significant_fold_change\n",
    "\n",
    "significant_fold_change = 1.9\n",
    "\n",
    "# When we change significant_fold_change what happens to prior_sig_fc?"
   ]
  },
  {
   "cell_type": "code",
   "execution_count": 11,
   "metadata": {},
   "outputs": [
    {
     "name": "stdout",
     "output_type": "stream",
     "text": [
      "prior_sig_fc: None\n",
      "significant_fold_change None\n"
     ]
    }
   ],
   "source": [
    "print (\"prior_sig_fc:\", None)\n",
    "print (\"significant_fold_change\", None)"
   ]
  },
  {
   "cell_type": "markdown",
   "metadata": {},
   "source": [
    "## 2. Commands that operate on things\n",
    "\n",
    "Just storing data in variables isn't much use to us. Right away, we'd like to start performing\n",
    "operations and manipulations on data and variables.\n",
    "\n",
    "There are three very common means of performing an operation on a thing."
   ]
  },
  {
   "cell_type": "markdown",
   "metadata": {},
   "source": [
    "### 2.1 Use an operator\n",
    "\n",
    "Most of the basic math operators (+  -  *  /  > %) work like you think they should for numbers. There are at least two exceptions. The equal sign is used in python for assigning variables, so when you are asking if two things are equal you use double equal sign `==`. In Excel and many other programming languages you use the `^` symbol for exponents. Python instead uses `**`, so $9^3$ is `9**3`."
   ]
  },
  {
   "cell_type": "code",
   "execution_count": 12,
   "metadata": {},
   "outputs": [
    {
     "ename": "TypeError",
     "evalue": "unsupported operand type(s) for +: 'NoneType' and 'NoneType'",
     "output_type": "error",
     "traceback": [
      "\u001b[1;31m---------------------------------------------------------------------------\u001b[0m",
      "\u001b[1;31mTypeError\u001b[0m                                 Traceback (most recent call last)",
      "\u001b[1;32m<ipython-input-12-dce933d3a59d>\u001b[0m in \u001b[0;36m<module>\u001b[1;34m\u001b[0m\n\u001b[0;32m      3\u001b[0m \u001b[0ma\u001b[0m \u001b[1;33m=\u001b[0m \u001b[1;32mNone\u001b[0m\u001b[1;33m\u001b[0m\u001b[1;33m\u001b[0m\u001b[0m\n\u001b[0;32m      4\u001b[0m \u001b[0mb\u001b[0m \u001b[1;33m=\u001b[0m \u001b[1;32mNone\u001b[0m\u001b[1;33m\u001b[0m\u001b[1;33m\u001b[0m\u001b[0m\n\u001b[1;32m----> 5\u001b[1;33m \u001b[0mprint\u001b[0m\u001b[1;33m(\u001b[0m\u001b[0ma\u001b[0m \u001b[1;33m+\u001b[0m \u001b[0mb\u001b[0m\u001b[1;33m)\u001b[0m\u001b[1;33m\u001b[0m\u001b[1;33m\u001b[0m\u001b[0m\n\u001b[0m\u001b[0;32m      6\u001b[0m \u001b[0mprint\u001b[0m\u001b[1;33m(\u001b[0m\u001b[0ma\u001b[0m \u001b[1;33m*\u001b[0m \u001b[0mb\u001b[0m\u001b[1;33m)\u001b[0m\u001b[1;33m\u001b[0m\u001b[1;33m\u001b[0m\u001b[0m\n\u001b[0;32m      7\u001b[0m \u001b[0mprint\u001b[0m\u001b[1;33m(\u001b[0m\u001b[0ma\u001b[0m \u001b[1;33m**\u001b[0m \u001b[0mb\u001b[0m\u001b[1;33m)\u001b[0m  \u001b[1;31m# a to the power of b (a^b does something completely different!)\u001b[0m\u001b[1;33m\u001b[0m\u001b[1;33m\u001b[0m\u001b[0m\n",
      "\u001b[1;31mTypeError\u001b[0m: unsupported operand type(s) for +: 'NoneType' and 'NoneType'"
     ]
    }
   ],
   "source": [
    "# Standard math operators work as expected on numbers\n",
    "# Set a and b to small integers and then run this cell\n",
    "a = None\n",
    "b = None\n",
    "print(a + b)\n",
    "print(a * b)\n",
    "print(a ** b)  # a to the power of b (a^b does something completely different!)\n",
    "print(a / b)  \n",
    "print(a > b)"
   ]
  },
  {
   "cell_type": "markdown",
   "metadata": {},
   "source": [
    "Whenever you make a comparison in python, the result is stored as a Boolean value that can only be `True` or `False`. "
   ]
  },
  {
   "cell_type": "code",
   "execution_count": null,
   "metadata": {},
   "outputs": [],
   "source": [
    "# Boolean operators compare two things\n",
    "a = (1 > 3)\n",
    "b = (3 == 3)\n",
    "print(a)\n",
    "print(b)\n",
    "print(a or b)\n",
    "print(a and b)\n",
    "\n",
    "# Note that True and False will be interpreted as 1 and 0\n",
    "print(True * 5)\n",
    "print(False * 5)"
   ]
  },
  {
   "cell_type": "markdown",
   "metadata": {},
   "source": [
    "Mathematical operators can also do some useful operations on other things, like strings."
   ]
  },
  {
   "cell_type": "code",
   "execution_count": null,
   "metadata": {},
   "outputs": [],
   "source": [
    "# Some operators also work on strings\n",
    "full_phrase = 'hello' + 'world'\n",
    "\n",
    "print(None)\n",
    "print('hello' * 3)\n",
    "#print('hello' / 3)  # You can't do this!"
   ]
  },
  {
   "cell_type": "markdown",
   "metadata": {},
   "source": [
    "***\n",
    "### <font color=brown>Hands on practice</font>\n",
    "Use the cell below to calculate $y = 3x^2 + 5x + 13$ when x = 9"
   ]
  },
  {
   "cell_type": "code",
   "execution_count": null,
   "metadata": {},
   "outputs": [],
   "source": [
    "x = 9\n",
    "y = None\n",
    "\n",
    "print (y)"
   ]
  },
  {
   "cell_type": "code",
   "execution_count": null,
   "metadata": {},
   "outputs": [],
   "source": [
    "# Note that parentheses change the order of operations as you would expect\n",
    "y = (8-2*x)-(5*x-1)**2\n",
    "print (y)"
   ]
  },
  {
   "cell_type": "markdown",
   "metadata": {},
   "source": [
    "***\n",
    "### 2.2 Use a function\n",
    "\n",
    "These will be very familiar to anyone who has used Excel or programmed in any language, and work like you\n",
    "would expect. You type the function name and then feed it the things that function will operate on inside parentheses. "
   ]
  },
  {
   "cell_type": "code",
   "execution_count": null,
   "metadata": {},
   "outputs": [],
   "source": [
    "# There are thousands of functions that operate on things\n",
    "# We've already used the type() and print() functions\n",
    "print(type(3))\n",
    "\n",
    "# Let's take a look at three more useful functions \n",
    "# len() gives you the length of a string \n",
    "# round() rounds to a number of significant digits\n",
    "# sum() works on lists \n",
    "\n",
    "print(len('hello'))\n",
    "print(round(3.3))\n",
    "a = [4, 5, 6]\n",
    "print(sum(a))"
   ]
  },
  {
   "cell_type": "markdown",
   "metadata": {},
   "source": [
    "__TIP:__ To find out what a function does, you can type it's name and then a question mark to\n",
    "get a pop up help window. Or, to see what arguments it takes, you can type its name, an open\n",
    "parenthesis, and hit tab."
   ]
  },
  {
   "cell_type": "code",
   "execution_count": null,
   "metadata": {},
   "outputs": [],
   "source": [
    "round?\n",
    "#round(\n",
    "round(3.14159, 2)"
   ]
  },
  {
   "cell_type": "markdown",
   "metadata": {},
   "source": [
    "**TIP:** If you need to find the right function or how to use a function, Google is your friend. I often look for answers on [Google](http://lmgtfy.com/?q=how+to+round+numbers+in+python)"
   ]
  },
  {
   "cell_type": "markdown",
   "metadata": {},
   "source": [
    "***\n",
    "### <font color=brown>Hands on practice</font>\n",
    "Use the len(), sum() and round() functions to calculate the average of the following list of numbers, rounded to three significant digits."
   ]
  },
  {
   "cell_type": "code",
   "execution_count": null,
   "metadata": {},
   "outputs": [],
   "source": [
    "test_list = [-11.33832235, 1.65312546, 2.42441466, 8.39480206, 2.62371567]\n",
    "### Start code here### \n",
    "test_length = None\n",
    "test_sum = None\n",
    "test_ave = None\n",
    "test_ave = None    #Round the test_ave\n",
    "\n",
    "print(test_ave)"
   ]
  },
  {
   "cell_type": "markdown",
   "metadata": {},
   "source": [
    "### 2.3 Use a method\n",
    "\n",
    "Before we get any farther into the Python language, we have to say a word about \"objects\". We\n",
    "will not be teaching object oriented programming in this class, but you will encounter objects\n",
    "throughout Python. In fact, even seemingly simple things like `ints` and `strings` are actually\n",
    "objects in Python.\n",
    "\n",
    "In the simplest terms, you can think of an object as a small bundled \"thing\" that contains within\n",
    "itself both data and functions that operate on that data, often called \"methods\". For example, strings in Python are\n",
    "objects that contain a set of characters and also various functions that operate on the set of\n",
    "characters.\n",
    "\n",
    "Instead of the \"normal\" `function(arguments)` syntax, methods are used by typing a period after a variable, like this `variable.method(arguments)`."
   ]
  },
  {
   "cell_type": "code",
   "execution_count": null,
   "metadata": {},
   "outputs": [],
   "source": [
    "# A string is actually an object\n",
    "# Set the variable gene to the string '16s ribosomal rna'\n",
    "gene = None"
   ]
  },
  {
   "cell_type": "code",
   "execution_count": null,
   "metadata": {},
   "outputs": [],
   "source": [
    "# Let's try out some of the bundled methods for strings\n",
    "\n",
    "print(gene.upper())\n",
    "print(gene.replace('rna', 'dna'))"
   ]
  },
  {
   "cell_type": "markdown",
   "metadata": {},
   "source": [
    "\n",
    "***\n",
    "### <font color=brown>Hands on practice</font>\n",
    "1. Use the string function `upper()` to capitalize the string\n",
    "2. Replace '...' with ',' using the `replace` string method"
   ]
  },
  {
   "cell_type": "code",
   "execution_count": null,
   "metadata": {},
   "outputs": [],
   "source": [
    "fly_genes = \"i'm not dead yet...ken and barbie...bride of sevenless\"\n",
    "\n",
    "# Capitalize the string\n",
    "fly_genes = None\n",
    "\n",
    "# Replace '...' with ', '\n",
    "fly_genes = None\n",
    "\n",
    "print (fly_genes)"
   ]
  },
  {
   "cell_type": "markdown",
   "metadata": {},
   "source": [
    "## 3. Collections of things\n",
    "\n",
    "Python provides us with a number of objects to handle collections of things.\n",
    "\n",
    "Probably 99% of your work in scientific Python will use one of four types of collections:\n",
    "`lists`, `tuples`, `dictionaries`, and `numpy arrays`. We'll look quickly at each of these and what\n",
    "they can do for you."
   ]
  },
  {
   "cell_type": "markdown",
   "metadata": {},
   "source": [
    "### 3.1 Lists\n",
    "\n",
    "Lists are probably the handiest and most flexible type of container. You can story any type of data in a list, in any combination.\n",
    "\n",
    "Lists are declared with square brackets `listname[Thing1, Thing2]`. \n",
    "\n",
    "Individual elements of a list can be selected using the syntax `listname[index]`."
   ]
  },
  {
   "cell_type": "code",
   "execution_count": null,
   "metadata": {},
   "outputs": [],
   "source": [
    "# Let's say we want to store metadata for YourFavoriteGene1, YFG1\n",
    "# We can make a list of the full name, gene length, genome position, and a brief description\n",
    "YFG1 = [\"YouFavoriteGene1\", 1002, 1272872 , \"The best. gene. ever.\"]\n",
    "print(YFG1, type(YFG1))\n",
    "\n",
    "#Note the different types of data"
   ]
  },
  {
   "cell_type": "code",
   "execution_count": null,
   "metadata": {},
   "outputs": [],
   "source": [
    "# All collections of things use square brackets to call for specific indices\n",
    "# Use indices to print out the full name and description of YFG1\n",
    "# REMEMBER: The first index is zero, not one\n",
    "\n",
    "print(YFG1[None])\n",
    "print(YFG1[None])"
   ]
  },
  {
   "cell_type": "code",
   "execution_count": null,
   "metadata": {},
   "outputs": [],
   "source": [
    "# You can count from the end of the list with negative indices\n",
    "print('last item is:', YFG1[-1])\n",
    "print('second to last item is:', YFG1[None])"
   ]
  },
  {
   "attachments": {
    "image.png": {
     "image/png": "[encoded data removed]"
    }
   },
   "cell_type": "markdown",
   "metadata": {},
   "source": [
    "#### Slicing off parts of collections\n",
    "For any type of collection we use square brackets and index numbers to access specific values. We can also select a range of indices using what is know as 'slice notation'. The basic syntax is `collection[startIndex:endIndex]`. This will give you a slice of the list from the startIndex to the endIndex, not including the end. \n",
    "![image.png](attachment:image.png)\n",
    "If you leave out an index value, python reads that as the start or end of the list, so we can select \"Monty\" with `[:5]` and Python with `[6:]`. "
   ]
  },
  {
   "cell_type": "code",
   "execution_count": null,
   "metadata": {},
   "outputs": [],
   "source": [
    "# Tou can access multiple items from a list by slicing, using a colon between indexes\n",
    "# REMEMBER: The end value is not inclusive\n",
    "print('YFG name, size, and location =', None)\n",
    "print('YFG location and function', None)"
   ]
  },
  {
   "cell_type": "code",
   "execution_count": null,
   "metadata": {},
   "outputs": [],
   "source": [
    "# Lists are objects, like everything else, and have methods such as append()\n",
    "# Let's add the 54.6 kDa molecular weight of YFG1 to the end of our list\n",
    "\n",
    "print(YFG1)\n",
    "YFG1.append(54.6)\n",
    "print(YFG1)\n",
    "\n",
    "# Lists can hold nearly any other thing, including other lists\n",
    "YFG1.append([1,2])\n",
    "print(YFG1)"
   ]
  },
  {
   "cell_type": "markdown",
   "metadata": {},
   "source": [
    "### 3.2 Tuples\n",
    "\n",
    "We won't say a whole lot about tuples except to mention that they basically work just like lists, with\n",
    "two major exceptions:\n",
    "\n",
    "1. You declare tuples using () instead of []\n",
    "1. Once you make a tuple, you can't change what's in it (referred to as immutable)\n",
    "\n",
    "You'll see tuples come up throughout the Python language, and over time you'll develop a feel for when\n",
    "to use them. \n",
    "\n",
    "In general, they're often used instead of lists:\n",
    "\n",
    "1. To group items when the position in the collection is critical, such as coord = (x,y)\n",
    "1. When you want to make prevent accidental modification of the items, e.g. shape = (12,23)"
   ]
  },
  {
   "cell_type": "code",
   "execution_count": null,
   "metadata": {},
   "outputs": [],
   "source": [
    "# Let's make a set using the same list items from above\n",
    "YFGset = (\"YouFavoriteGene1\", 1002, 1272872 , \"The best. gene. ever.\")\n",
    "print(type(YFGset))\n",
    "\n",
    "# Try and change the description at index 3 \n",
    "#YFGset[3] = \"this won't work with a tuple\""
   ]
  },
  {
   "cell_type": "markdown",
   "metadata": {},
   "source": [
    "### Anatomy of a traceback error\n",
    "\n",
    "Traceback errors are `raised` when you try to do something with code it isn't meant to do.  It is also meant to be informative, but like many things, it is not always as informative as we would like.\n",
    "\n",
    "Looking at our error:\n",
    "\n",
    "    TypeError                                 Traceback (most recent call last)\n",
    "    <ipython-input-25-ed149295af18> in <module>()\n",
    "          4 \n",
    "          5 # Try and change the description at index 3\n",
    "    ----> 6 YFGset[3] = \"this won't work with a tuple\"\n",
    "\n",
    "    TypeError: 'tuple' object does not support item assignment\n",
    "    \n",
    "1. The command you tried to run raise a **TypeError**  This suggests you are using a variable in a way that its **Type** doesnt support\n",
    "2. the arrow ----> points to the line where the error occurred, In this case on line 3 of your code form the above line.\n",
    "3. Learning how to **read** a traceback error is an important skill to develop, and helps you know how to ask questions about what has gone wrong in your code.\n"
   ]
  },
  {
   "cell_type": "markdown",
   "metadata": {},
   "source": [
    "### 3.3 Dictionaries\n",
    "\n",
    "One problem with lists and tuples is that you have to remember what you stored at each position. Dictionaries are the collection to use when you want to store and retrieve things by their names (or some other kind of key) instead of by their position in the collection. \n",
    "\n",
    "Dictionaries are declared using {\"thing1key\" : thing1value, \"thing2key\" : thing2value}.\n",
    "\n",
    "Let's make a dictionary of our YFG1 metadata."
   ]
  },
  {
   "cell_type": "code",
   "execution_count": null,
   "metadata": {},
   "outputs": [],
   "source": [
    "# Make a dictionary of YFG1 metadata\n",
    "YFG1meta = {'full_name' : 'YouFavoriteGene1',\n",
    "            'gene_length' : 1002, \n",
    "            'genome_position' : 1272872, \n",
    "            'brief_description': 'The best. gene. ever.'\n",
    "            }\n",
    "\n",
    "\n",
    "print(YFG1meta)\n",
    "\n",
    "print(YFG1meta['genome_position'])\n",
    "\n",
    "# This won't work because there is no key named '2'\n",
    "print(YFG1meta[2])"
   ]
  },
  {
   "cell_type": "code",
   "execution_count": null,
   "metadata": {},
   "outputs": [],
   "source": [
    "# Like lists, dictionaries are 'mutable', so you can add, remove, and change values\n",
    "# Add a new key:value pair\n",
    "YFG1meta['readDepth'] = 571\n",
    "print(YFG1meta)"
   ]
  },
  {
   "cell_type": "markdown",
   "metadata": {},
   "source": [
    "\n",
    "\n",
    "***\n",
    "\n",
    "\n",
    "# End of Class 2\n",
    "We will pick up here on Monday. Today's homework is a separate Jupyter notebook in this same folder. **Don't over-complicate the homework**. There are only a few lines of code for you to write, and they are all variations of things we've done in this class.\n",
    "\n",
    "\n",
    "***\n",
    "\n"
   ]
  },
  {
   "cell_type": "markdown",
   "metadata": {},
   "source": [
    "***"
   ]
  },
  {
   "cell_type": "markdown",
   "metadata": {},
   "source": [
    "# Class 3\n",
    "\n",
    "Welcome back! \n",
    "\n",
    "This class will finish our tour of `python` by covering three of the most important tools for programming:\n",
    " - `for` loops\n",
    " - `if` and `else` for making choices\n",
    " - making your own functions \n",
    "\n",
    "Let's do a quick review of how to store and operate on variables."
   ]
  },
  {
   "cell_type": "markdown",
   "metadata": {},
   "source": [
    "***\n",
    "### <font color=brown>Hands on practice</font>\n",
    "\n",
    "\n",
    "Let's make and store some variables like we did last week. Let's say you want to know if YFG1 expression goes up when you add the drug deathamous trioxide, or DMT. You have an experiment where you treated three samples with DMT and a three samples with no DMT. You've extracted RNA and now have read counts for YFG1 with and without drug. Before you can compare the results you have to normalize for the total number of read counts. I've given you a list variable `reads` that has the read counts of YFG1 followed by the total reads for each sample.\n",
    "\n",
    "Before we can work with the data however we need to split the list so we have one for the drug treated and one for the control.\n",
    "\n",
    "1. Split the `read` list into `read_counts` and `total_reads` using slicing.\n",
    "1. For the first drug treated sample, calculate the reads-per-million total reads. The equation for that is:\n",
    "##  $CPM = \\frac {10^6}{totalreads} * readcounts$ \n",
    "1. Print the result\n"
   ]
  },
  {
   "cell_type": "code",
   "execution_count": 13,
   "metadata": {},
   "outputs": [],
   "source": [
    "reads = [2259, 3011, 2792, 4028, 3235, 3719, 3042555, 2637390, 3196661, 3387062, 1957626, 2076348]\n",
    "samplenames = [\"DMT1\", \"DMT2\", \"DMT3\", \"NoDrug1\", \"NoDrug2\", \"NoDrug3\"]"
   ]
  },
  {
   "cell_type": "code",
   "execution_count": 15,
   "metadata": {},
   "outputs": [
    {
     "data": {
      "text/plain": [
       "856.5286135156348"
      ]
     },
     "execution_count": 15,
     "metadata": {},
     "output_type": "execute_result"
    }
   ],
   "source": [
    "### Start code here ### (~4 lines)\n",
    "read_counts = reads[:7]\n",
    "total_reads = reads[7:]\n",
    "CPM_first_sample = 10**6 / total_reads[0] *read_counts[0]\n",
    "CPM_first_sample\n",
    "### End code here ###"
   ]
  },
  {
   "cell_type": "markdown",
   "metadata": {},
   "source": [
    "***\n",
    "Now let's use these variables to learn how to make for loops"
   ]
  },
  {
   "cell_type": "markdown",
   "metadata": {},
   "source": [
    "## 4. Repeating yourself\n",
    "\n",
    "The two most common ways of repeating operations are for loops and while loops. For loops in Python are useful when you want to cycle over all of the items in a collection (such as all of the elements of a list), and while loops are useful when you want to cycle for an indefinite amount of time until some condition is met.\n",
    "\n",
    "The basic examples below will work for looping over lists, tuples, and arrays, which we will cover next class. "
   ]
  },
  {
   "cell_type": "code",
   "execution_count": 16,
   "metadata": {},
   "outputs": [
    {
     "name": "stdout",
     "output_type": "stream",
     "text": [
      "DMT1:\n",
      "DMT2:\n",
      "DMT3:\n",
      "NoDrug1:\n",
      "NoDrug2:\n",
      "NoDrug3:\n"
     ]
    }
   ],
   "source": [
    "# A basic for loop - don't forget the white space!\n",
    "for sample in samplenames:\n",
    "    print(sample + ':')"
   ]
  },
  {
   "cell_type": "markdown",
   "metadata": {},
   "source": [
    "**Note on indentation**: Notice the indentation once we enter the for loop.  Every idented statement after the for loop declaration is part of the for loop.  This rule holds true for while loops, if statements, functions, etc. Required identation is one of the reasons Python is such a beautiful language to read.\n",
    "\n",
    "If you do not have consistent indentation you will get an `IndentationError`.  Fortunately, most code editors will ensure your indentation is correction.\n",
    "\n",
    "__NOTE__ In Python the default is to use four (4) spaces for each indentation, most editors can be configured to follow this guide."
   ]
  },
  {
   "cell_type": "code",
   "execution_count": 17,
   "metadata": {},
   "outputs": [
    {
     "name": "stdout",
     "output_type": "stream",
     "text": [
      "dmt1!\n",
      "dmt2!\n",
      "dmt3!\n",
      "nodrug1!\n",
      "nodrug2!\n",
      "nodrug3!\n"
     ]
    }
   ],
   "source": [
    "# Indentation error: Fix it!\n",
    "for sample in samplenames:\n",
    "    lowercase = sample.lower()\n",
    "    print(lowercase + '!') # Bad indent"
   ]
  },
  {
   "cell_type": "code",
   "execution_count": 19,
   "metadata": {},
   "outputs": [
    {
     "name": "stdout",
     "output_type": "stream",
     "text": [
      "Sum is 1\n",
      "Sum is 5\n",
      "Sum is 82\n",
      "Sum is 85\n"
     ]
    }
   ],
   "source": [
    "# You can sum all of the values in a collection using a for loop\n",
    "numlist = [1, 4, 77, 3]\n",
    "\n",
    "total = 0\n",
    "for num in numlist:\n",
    "    total = total + num\n",
    "    \n",
    "    print(\"Sum is\", total)"
   ]
  },
  {
   "cell_type": "code",
   "execution_count": 20,
   "metadata": {},
   "outputs": [
    {
     "name": "stdout",
     "output_type": "stream",
     "text": [
      "1 2\n",
      "2 4\n",
      "3 8\n",
      "4 16\n",
      "5 32\n",
      "6 64\n",
      "7 128\n",
      "Reached a product of 128 at step number 7\n"
     ]
    }
   ],
   "source": [
    "# While loops are useful when you don't know how many steps you will need,\n",
    "# and want to stop once a certain condition is met.\n",
    "step = 0\n",
    "prod = 1\n",
    "while prod < 100:\n",
    "    step = step + 1\n",
    "    prod = prod * 2\n",
    "    print(step, prod)\n",
    "    \n",
    "print('Reached a product of', prod, 'at step number', step)"
   ]
  },
  {
   "cell_type": "code",
   "execution_count": 21,
   "metadata": {},
   "outputs": [
    {
     "name": "stdout",
     "output_type": "stream",
     "text": [
      "1 DMT1 DMT1\n",
      "2 DMT2 DMT2\n",
      "3 DMT3 DMT3\n",
      "4 NoDrug1 NoDrug1\n",
      "5 NoDrug2 NoDrug2\n",
      "6 NoDrug3 NoDrug3\n"
     ]
    }
   ],
   "source": [
    "# Often we want to loop over the indexes of a collection, not just the items\n",
    "# python gives us a handy way to do that: enumerate()\n",
    "\n",
    "for i, sample in enumerate(samplenames):\n",
    "    print(i+1, sample, samplenames[i])"
   ]
  },
  {
   "cell_type": "code",
   "execution_count": 22,
   "metadata": {},
   "outputs": [
    {
     "name": "stdout",
     "output_type": "stream",
     "text": [
      "1 3 3\n",
      "2 4 8\n",
      "3 5 15\n"
     ]
    }
   ],
   "source": [
    "# Sometimes we want to loop through multiple lists\n",
    "# you can use zip() to zip together lists\n",
    "a = [1, 2, 3]\n",
    "b = [3, 4, 5]\n",
    "for i, j in zip(a,b):\n",
    "    print (i, j, i*j)"
   ]
  },
  {
   "cell_type": "markdown",
   "metadata": {},
   "source": [
    "***\n",
    "### <font color=brown>Hands on practice</font>\n",
    "\n",
    "1. Make an empty new list `CPM` for storing the results\n",
    "2. Write a for loop that calculates the CPM for all of the samples and stores those values in `CPM` \n",
    "\n",
    "**Hint**: you'll need to use zip\n",
    "\n",
    "3. Use enumerate to print a little table of the sample names and CPM\n"
   ]
  },
  {
   "cell_type": "code",
   "execution_count": null,
   "metadata": {},
   "outputs": [],
   "source": [
    "# To make an empty list, make a list but don't put anything in it...\n",
    "CPM = None\n",
    "\n",
    "# use the same calculation from above to calculate the sample_cpm\n",
    "for reads, total in zip(None, None):\n",
    "    sample_cpm = None\n",
    "    CPM.append(sample_cpm)\n",
    "    \n",
    "# Now let's print out a little table\n",
    "for i, cpm in enumerate(None):\n",
    "    # print out the index i, the i-th samplename, and the cpm\n",
    "    print(None, \"\\t\", None, \"\\t\", None)"
   ]
  },
  {
   "cell_type": "markdown",
   "metadata": {},
   "source": [
    "## 5. Making choices\n",
    "\n",
    "Often we want to check if a condition is True and take one action if it is, and another action if the\n",
    "condition is False. We can achieve this in Python with an if statement.\n",
    "\n",
    "__TIP:__ You can use any expression that returns a boolean value (True or False) in an if statement.\n",
    "Common boolean operators are:\n",
    "- equals        ==\n",
    "- doesn't equal !=\n",
    "- <, <=, >, >=\n",
    "\n",
    "To do this in python we use `if` followed by the conditional expression and then a `:`. When you hit enter python will automatically indent four spaces. Everything indented after the if statement will run if if is `True`, and won't if it's `False`. \n",
    "\n"
   ]
  },
  {
   "cell_type": "code",
   "execution_count": null,
   "metadata": {},
   "outputs": [],
   "source": [
    "# Simple if statements\n",
    "x = 3\n",
    "if x > 0:\n",
    "    print('x is positive')\n",
    "    \n",
    "if x < 0:\n",
    "    print('x is negative')\n",
    "if x == 0\n",
    "    print('x is zero')"
   ]
  },
  {
   "cell_type": "markdown",
   "metadata": {},
   "source": [
    "If you want to have some code run if the result if False, you can use `else`. And you can chain together a whole string of conditionals using `elif`"
   ]
  },
  {
   "cell_type": "code",
   "execution_count": null,
   "metadata": {},
   "outputs": [],
   "source": [
    "# A simple if statement\n",
    "x = 3\n",
    "if x > 0:\n",
    "    print('x is positive')\n",
    "elif x < 0:\n",
    "    print('x is negative')\n",
    "else:\n",
    "    print('x is zero')"
   ]
  },
  {
   "cell_type": "code",
   "execution_count": null,
   "metadata": {},
   "outputs": [],
   "source": [
    "# You can also calculate your boolean value, store it as a variable, and then use that instead of writing out the conditional\n",
    "\n",
    "x = -1\n",
    "test = x > 0\n",
    "\n",
    "if test:\n",
    "    print('Test was true')\n",
    "else:\n",
    "    print('Test was false')"
   ]
  },
  {
   "cell_type": "markdown",
   "metadata": {},
   "source": [
    "***\n",
    "### <font color=brown>Hands on practice</font>\n",
    "\n",
    "For and if loops work great together. Let's go back to our example data set and make a for loop that prints all of the samples that have more than 3,000 reads for YFG1."
   ]
  },
  {
   "cell_type": "code",
   "execution_count": null,
   "metadata": {},
   "outputs": [],
   "source": [
    "Let's look at the data again\n",
    "print (samplenames)\n",
    "print (read_counts)"
   ]
  },
  {
   "cell_type": "code",
   "execution_count": null,
   "metadata": {},
   "outputs": [],
   "source": [
    "for sample, reads in zip(samplenames, read_counts):\n",
    "    if None:\n",
    "        print (sample, reads)"
   ]
  },
  {
   "cell_type": "markdown",
   "metadata": {},
   "source": [
    "## 6. Creating chunks with functions and modules\n",
    "\n",
    "One way to write a program is to simply string together commands, like the ones described above, in a long\n",
    "file, and then to run that file to generate your results. This may work, but it can be cognitively difficult\n",
    "to follow the logic of programs written in this style. Also, it does not allow you to reuse your code\n",
    "easily.\n",
    "\n",
    "The most important ways to \"chunk\" code into more manageable pieces is to create functions and then\n",
    "to gather these functions into modules. Below we will discuss how to create\n",
    "functions and modules. A third common type of \"chunk\" in Python is classes, but we will not be covering\n",
    "object-oriented programming in this workshop.\n",
    "\n",
    "We've used many built in python functions in the class already, and we have used methods, functions built into objects. In the final part of this class we will build our own functions using `def`."
   ]
  },
  {
   "cell_type": "code",
   "execution_count": null,
   "metadata": {},
   "outputs": [],
   "source": [
    "# It's very easy to write your own functions\n",
    "def multiply(x, y):\n",
    "    return x*y"
   ]
  },
  {
   "cell_type": "markdown",
   "metadata": {},
   "source": [
    "With `def` you define a new function. After the name of the function you put what arguments you'd like to feed that function inside parentheses, in this case `x` and `y`. There are a lot of fancy things you can do with these arguments, including presetting values. \n",
    "\n",
    "Once you've done whatever you want the function to do, you send back the results using `return`. "
   ]
  },
  {
   "cell_type": "code",
   "execution_count": null,
   "metadata": {},
   "outputs": [],
   "source": [
    "# Once a function is defined and saved in memory, it's available just like any other function\n",
    "print(type(multiply))\n",
    "print(multiply(4, 3))"
   ]
  },
  {
   "cell_type": "code",
   "execution_count": null,
   "metadata": {},
   "outputs": [],
   "source": [
    "# It's useful to include docstrings to describe what your function does\n",
    "def say_hello(time, people):\n",
    "    '''\n",
    "    Function says a greeting. Useful for engendering goodwill\n",
    "    '''\n",
    "    return 'Good ' + time + ', ' + people"
   ]
  },
  {
   "cell_type": "markdown",
   "metadata": {},
   "source": [
    "**Docstrings**: A docstring is a special type of comment that tells you what a function does.  You can see them when you ask for help about a function."
   ]
  },
  {
   "cell_type": "code",
   "execution_count": null,
   "metadata": {},
   "outputs": [],
   "source": [
    "say_hello('afternoon', 'friends')"
   ]
  },
  {
   "cell_type": "code",
   "execution_count": null,
   "metadata": {},
   "outputs": [],
   "source": [
    "# All arguments must be present, or the function will return an error\n",
    "say_hello('afternoon')"
   ]
  },
  {
   "cell_type": "code",
   "execution_count": null,
   "metadata": {},
   "outputs": [],
   "source": [
    "# Keyword arguments can be used to make some arguments optional by giving them a default value\n",
    "# All mandatory arguments must come first, in order\n",
    "def say_hello(time, people='friends'):\n",
    "    return 'Good ' + time + ', ' + people"
   ]
  },
  {
   "cell_type": "code",
   "execution_count": null,
   "metadata": {},
   "outputs": [],
   "source": [
    "say_hello('afternoon')"
   ]
  },
  {
   "cell_type": "code",
   "execution_count": null,
   "metadata": {},
   "outputs": [],
   "source": [
    "say_hello('afternoon', 'students')"
   ]
  },
  {
   "cell_type": "markdown",
   "metadata": {},
   "source": [
    "### Class Three Homework\n",
    "\n",
    "Let's make a new function that calculates the mean and variance using our sample data above. There are much better ways of doing this with `numpy` and `pandas`, which we'll cover in the next class. But for now, let's do it the hard way so we really appreciate the easy way.\n",
    "\n",
    "The formula for calculating variance is:\n",
    "###  $variance = \\frac{\\Sigma{(x-mean)^2}}{n-1}$\n",
    "\n",
    "For this function you will need to:\n",
    "1. Calculate the mean of the cpm values using the sum() and len() functions\n",
    "2. Write a for loop that calculates $(x-mean)^2$ for each sample and keeps a cumulative sum of the results\n",
    "3. Divide the result by the number of samples minus one\n",
    "4. Print out the mean and variance \n",
    "\n"
   ]
  },
  {
   "cell_type": "code",
   "execution_count": null,
   "metadata": {},
   "outputs": [],
   "source": [
    "def variance (CPM):\n",
    "    '''\n",
    "    A function for calculating variance.\n",
    "    '''\n",
    "    # Calculate the sample size and the mean\n",
    "    sample_size = None\n",
    "    mean = None\n",
    "\n",
    "    sq_dev_sum = 0\n",
    "\n",
    "    # Calculate the squared deviation from the mean for each sample\n",
    "    for cpm in CPM:\n",
    "        # Handy shortcut: instead of a = a + 3 you can use a += 3 \n",
    "        sq_dev_sum += None\n",
    "\n",
    "    variance = None\n",
    "    \n",
    "    print (\"The mean is:\", mean)\n",
    "    print (\"The variance is:\", variance)\n",
    "\n",
    "    return "
   ]
  },
  {
   "cell_type": "markdown",
   "metadata": {},
   "source": [
    "### Putting the `variance` function in a module\n",
    "\n",
    "We can make our functions more easily reusable by placing them into modules that we can import, just\n",
    "like we have been doing with `numpy`. It's pretty simple to do this.\n",
    "\n",
    "1. Copy your function(s) into a new text file, in the same directory as this notebook,\n",
    "called `var.py`.\n",
    "1. In the cell below, type `import var` to import the module. Type `var.` and hit tab to see the available\n",
    "functions in the module.\n",
    "1. Now use your variance function for all of the samples together, and the drug treated and control samples separately."
   ]
  },
  {
   "cell_type": "code",
   "execution_count": null,
   "metadata": {},
   "outputs": [],
   "source": []
  }
 ],
 "metadata": {
  "kernelspec": {
   "display_name": "Python 3",
   "language": "python",
   "name": "python3"
  },
  "language_info": {
   "codemirror_mode": {
    "name": "ipython",
    "version": 3
   },
   "file_extension": ".py",
   "mimetype": "text/x-python",
   "name": "python",
   "nbconvert_exporter": "python",
   "pygments_lexer": "ipython3",
   "version": "3.6.8"
  }
 },
 "nbformat": 4,
 "nbformat_minor": 1
}
