{
 "cells": [
  {
   "cell_type": "markdown",
   "metadata": {},
   "source": [
    "## Pabio536 Homework week one\n",
    "\n",
    "Let's say you have a file containing a list of short DNA fragments that correspond to the DNA binding sites. Unfortunately the file was corrupted and the sequences got scrambled. Here's the first example from the list.\n",
    "\n",
    "`GaCc^ncAAtcGattG^ngGtC11746`\n",
    "\n",
    "You know from some old data that should be:\n",
    "\n",
    "`GACCCAATCGATTGGGTC`\n",
    "\n",
    "You realize as you look at the scrambled data that there is a pattern to the changes made:\n",
    "1. Some bases are now lower case\n",
    "1. The character pair `^n` has been inserted randomly\n",
    "1. A five digit number has been stuck on the end\n",
    "\n",
    "You need to write a function named `unscrambler` that unscrambles the DNA by reversing each of those steps. The last cell of this notebook will run a test of your function on a set of 1,000 scrambled sequences and tell you what percent were unscrambled successfully.   "
   ]
  },
  {
   "cell_type": "code",
   "execution_count": null,
   "metadata": {},
   "outputs": [],
   "source": [
    "# Copy the sample scrambled DNA fragment from above and assign it to the variable 'seq'\n",
    "# Remember to use single or double quotes around a string\n",
    "### Start code here ###\n",
    "seq = None\n",
    "###  End code here  ###"
   ]
  },
  {
   "cell_type": "markdown",
   "metadata": {},
   "source": [
    "Let's try to fix each of those errors one at a time and then combine them into a function."
   ]
  },
  {
   "cell_type": "code",
   "execution_count": null,
   "metadata": {},
   "outputs": [],
   "source": [
    "# First let's captialize all of the letters with str.upper()\n",
    "### Start code here ###\n",
    "seq = None\n",
    "###  End code here  ###\n",
    "print(seq)"
   ]
  },
  {
   "cell_type": "code",
   "execution_count": null,
   "metadata": {},
   "outputs": [],
   "source": [
    "# Then let's remove the inserted '^n's with str.replace('^N', '') \n",
    "### Start code here ###\n",
    "seq = None\n",
    "###  End code here  ###\n",
    "print(seq)"
   ]
  },
  {
   "cell_type": "code",
   "execution_count": null,
   "metadata": {},
   "outputs": [],
   "source": [
    "# Finally we need to trim the digits off the end of the string\n",
    "# Hint: The fact that there are always five digits on the end means we can do this with a simple slice\n",
    "### Start code here ###\n",
    "seq = None\n",
    "###  End code here  ###\n",
    "print(seq)"
   ]
  },
  {
   "cell_type": "code",
   "execution_count": null,
   "metadata": {},
   "outputs": [],
   "source": [
    "# Now lets take those three steps and turn them into a function. We will go over this on Monday,\n",
    "# but for now just paste your three lines of code from above into the form below.\n",
    "def unscrambler (seq):\n",
    "### Start code here ### \n",
    "    seq = None\n",
    "    seq = None\n",
    "    seq = None\n",
    "###  End code here  ###\n",
    "    return seq"
   ]
  },
  {
   "cell_type": "markdown",
   "metadata": {},
   "source": [
    "#### Test to see if your function works with one sample\n",
    "Now you can call `unscrambler()` and pass it a scrambled sequence and you should get back the expected sequence. Let's try doing all three steps on the same sample sequence we started with."
   ]
  },
  {
   "cell_type": "code",
   "execution_count": null,
   "metadata": {},
   "outputs": [],
   "source": [
    "# Now let's test the function on the original sample sequence\n",
    "one_seq = 'GaCc^ncAAtcGattG^ngGtC11746'\n",
    "print(unscrambler(one_seq))"
   ]
  },
  {
   "cell_type": "markdown",
   "metadata": {},
   "source": [
    "***\n",
    "#### Now use your function on a **thousand** scrambled sequences\n",
    "If your method worked on one sequence, let's try it on 1,000. One of the biggest benefits of learning basic code is that you can write quick scripts that do a lot of repetetive work for you. \n",
    "\n",
    "The block of code below has several things we have yet to cover in class. You don't need to understand what's happening here (though you're free to poke around and I'm happy to answer questions.\n",
    "\n",
    "Simply run the cell and see how well your version of `unscrambler()` works. "
   ]
  },
  {
   "cell_type": "code",
   "execution_count": null,
   "metadata": {},
   "outputs": [],
   "source": [
    "# Finally run this block of code to test your function on 1,000 scrambled sequences \n",
    "\n",
    "import pickle\n",
    "\n",
    "# Load sample data\n",
    "with open('data/seqset.pickle', 'rb') as f:\n",
    "    testseq = pickle.load(f)\n",
    "\n",
    "# Unscramble the sample data\n",
    "unscram = []\n",
    "for i in testseq:\n",
    "    unscram.append(unscrambler(i))\n",
    "\n",
    "# Load unscrambled key\n",
    "with open('data/unscram.pickle', 'rb') as f:\n",
    "    unscram_key = pickle.load(f)\n",
    "\n",
    "if unscram == unscram_key:\n",
    "    print('Congratulations! Your unscrambler function worked!')\n",
    "else:\n",
    "    print(\"Keep trying- something's not quite right.\")\n",
    "\n",
    "# Compare before, after, and my result\n",
    "print(\"The first five scrambled sequences:\")\n",
    "print(unscram[:4])\n",
    "print(\"The first five from your unscrambled set:\")\n",
    "print(unscram[:4])\n",
    "print(\"The first five from the key:\")\n",
    "print(unscram_key[:4])\n",
    "    \n",
    "        "
   ]
  }
 ],
 "metadata": {
  "kernelspec": {
   "display_name": "Python 3",
   "language": "python",
   "name": "python3"
  },
  "language_info": {
   "codemirror_mode": {
    "name": "ipython",
    "version": 3
   },
   "file_extension": ".py",
   "mimetype": "text/x-python",
   "name": "python",
   "nbconvert_exporter": "python",
   "pygments_lexer": "ipython3",
   "version": "3.6.8"
  }
 },
 "nbformat": 4,
 "nbformat_minor": 2
}
