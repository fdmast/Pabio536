{
 "cells": [
  {
   "cell_type": "code",
   "execution_count": null,
   "metadata": {},
   "outputs": [],
   "source": [
    "# Makes it so any variable or statement on it's own line gets printed w/o print()\n",
    "from IPython.core.interactiveshell import InteractiveShell\n",
    "InteractiveShell.ast_node_interactivity = \"all\""
   ]
  },
  {
   "cell_type": "code",
   "execution_count": null,
   "metadata": {},
   "outputs": [],
   "source": [
    "# Import required libraries\n",
    "import numpy as np\n",
    "import pandas as pd\n",
    "import scipy "
   ]
  },
  {
   "cell_type": "code",
   "execution_count": null,
   "metadata": {},
   "outputs": [],
   "source": [
    "pd.set_option('precision', 2)\n",
    "pd.set_option('max_columns',10)"
   ]
  },
  {
   "cell_type": "code",
   "execution_count": null,
   "metadata": {},
   "outputs": [],
   "source": [
    "# Import comma-seperated data from a text file\n",
    "df = pd.read_csv('data\\GSE88741-expression.csv', index_col=0)\n",
    "\n",
    "# Bring in metadata from Excel\n",
    "meta = pd.read_excel(\"data/GSE88741-metadata.xlsx\", index_col=1)"
   ]
  },
  {
   "cell_type": "code",
   "execution_count": null,
   "metadata": {
    "scrolled": true
   },
   "outputs": [],
   "source": [
    "# Extract the Sample Titles and use them to replace the ugly GSM names\n",
    "samples = meta.index\n",
    "df.columns = samples\n",
    "\n",
    "# Let's also make a new metadata column with cell line names\n",
    "# Remove the last two characters from each sample name\n",
    "samples = samples.str[:-2]\n",
    "meta['cell_line'] = samples"
   ]
  },
  {
   "cell_type": "code",
   "execution_count": null,
   "metadata": {},
   "outputs": [],
   "source": [
    "# Transpose the data so the observations (samples) are the rows and the variables (gene expression) are columns\n",
    "df = df.transpose()\n",
    "# Now merge the two tables with concat. \n",
    "melanoma_df = pd.concat([meta, df], axis=1)"
   ]
  },
  {
   "cell_type": "markdown",
   "metadata": {},
   "source": [
    "# Functions to make DataFrames and ndarrays shine\n",
    "\n",
    "\n",
    "Pandas and NumPy come with a [huge library of functions](http://pandas.pydata.org/pandas-docs/stable/reference/frame.html#) that work on ndarrays (nda) and DataFrames (df). Some of these are methods built into every nda and df object. Note that below I will refer to nda.method() or df.method(), which is just a way to say that those methods are built into every nda and df.  \n",
    "\n",
    "We will cover a few of the most useful functions here and will see many more as the class goes on.\n",
    "\n",
    "In this class we will introduce:\n",
    " - magic function %whos\n",
    " - computation methods min(), var(), mean(), etc.\n",
    " - sort_values()\n",
    " - groupby()\n",
    " - scipy.stats functions\n",
    "     - pearsonr()   Pearson correlation coefficient\n",
    "     - ttest_ind()  Student's t-test of independent variables\n",
    "     - f_oneway()   ANOVA\n",
    " - And if we have time, np.random"
   ]
  },
  {
   "cell_type": "markdown",
   "metadata": {},
   "source": [
    "### Magic functions (from base python)\n",
    "\n",
    "Python has a set of \"magic\" commands that work on memory and the operating system. Not surprisingly, you can easily cause things to crash doing that, so magic commands limit your ability to do damage by only giving you a few powerful functions. All magic functions start with a \"%\" symbol. \n",
    "\n",
    "We will run into a few more of these later, but for now I just want to show you one really useful magic function: `%whos`.\n",
    "\n",
    "You may find that you lose track of the variables you've created so far. Let's see whats there with `%whos`"
   ]
  },
  {
   "cell_type": "code",
   "execution_count": null,
   "metadata": {},
   "outputs": [],
   "source": [
    "# This will show us every variable in memory\n",
    "%whos"
   ]
  },
  {
   "cell_type": "code",
   "execution_count": null,
   "metadata": {},
   "outputs": [],
   "source": [
    "# This will just show us every DataFrame\n",
    "%whos DataFrame"
   ]
  },
  {
   "cell_type": "code",
   "execution_count": null,
   "metadata": {},
   "outputs": [],
   "source": [
    "#If you're curious, here's how to list all available magic functions\n",
    "%lsmagic"
   ]
  },
  {
   "cell_type": "markdown",
   "metadata": {},
   "source": [
    "### NumPy and Pandas built in methods for ndarrays and DataFrames\n",
    "\n",
    "There are hundreds of functions and built in methods for performing calculations with ndarrays and DataFrames, many that are rarely used (by me). Let's use a few of the most popular methods to standardize our data (we'll use this later for plotting) and find genes that are expressed at different levels in melanoma and normal cell lines.\n",
    "\n",
    "We'll do this in four steps:\n",
    "- Remove genes with low numbers of reads\n",
    "- Standard scaling (subtract the mean, divide by the standard deviation)\n",
    "- Sort on standard deviation to find the ten genes with the most (standardized) variation\n",
    "- Apply statistical tests to get a p-value for normal vs melanoma "
   ]
  },
  {
   "cell_type": "markdown",
   "metadata": {},
   "source": [
    "### Remove columns with zero reads"
   ]
  },
  {
   "cell_type": "code",
   "execution_count": null,
   "metadata": {},
   "outputs": [],
   "source": [
    "# Make a DataFrame of boolean values showing where there are zero reads\n",
    "mel_zeros = None\n",
    "mel_zeros"
   ]
  },
  {
   "cell_type": "code",
   "execution_count": null,
   "metadata": {},
   "outputs": [],
   "source": [
    "# Add together all of the columns to get total number of samples with zero counts\n",
    "zerosum = mel_zeros.None"
   ]
  },
  {
   "cell_type": "code",
   "execution_count": null,
   "metadata": {
    "scrolled": true
   },
   "outputs": [],
   "source": [
    "# We'll do more plotting later, but a simple histogram is useful here\n",
    "zerosum.hist()"
   ]
  },
  {
   "cell_type": "markdown",
   "metadata": {},
   "source": [
    "You can see that most genes either have reads for all 12 samples or none of them. We want to remove all of those genes from our DataFrame. Let's do that by selecting on a list of genes that have reads for all 12 samples."
   ]
  },
  {
   "cell_type": "code",
   "execution_count": null,
   "metadata": {},
   "outputs": [],
   "source": [
    "# Make a mask of all the columns we want to keep\n",
    "# Let's be picky and only accept genes where all 12 samples have counts\n",
    "keep = None"
   ]
  },
  {
   "cell_type": "code",
   "execution_count": null,
   "metadata": {},
   "outputs": [],
   "source": [
    "# Using df.loc we can select just the genes we want to keep\n",
    "keepers = melanoma_df.columns[None]\n",
    "melanoma_low_removed = melanoma_df [None]\n",
    "# Check the shape before and after\n",
    "None\n",
    "None"
   ]
  },
  {
   "cell_type": "code",
   "execution_count": null,
   "metadata": {
    "scrolled": true
   },
   "outputs": [],
   "source": [
    "melanoma_low_removed.head()"
   ]
  },
  {
   "cell_type": "code",
   "execution_count": null,
   "metadata": {},
   "outputs": [],
   "source": [
    "# Let's strip out the metadata for now\n",
    "melanoma_low_removed = melanoma_low_removed.loc[:,'A1BG':]"
   ]
  },
  {
   "cell_type": "markdown",
   "metadata": {},
   "source": [
    "***\n",
    "### <font color=brown>Hands on practice</font>\n",
    "How many genes have less than 12 samples with reads, but more than zero?"
   ]
  },
  {
   "cell_type": "code",
   "execution_count": null,
   "metadata": {},
   "outputs": [],
   "source": [
    "np.sum(zerosum <12) - np.sum(zerosum > 0)"
   ]
  },
  {
   "cell_type": "markdown",
   "metadata": {},
   "source": [
    "***"
   ]
  },
  {
   "cell_type": "markdown",
   "metadata": {},
   "source": [
    "### Standard scaling"
   ]
  },
  {
   "cell_type": "markdown",
   "metadata": {},
   "source": [
    "Now that we've winnowed the table down to just the genes we're interested in, we will apply 'standard scaling' to our data, which removes the mean and scales to the standard deviation. \n",
    "\n",
    "$\\ \\frac{X-\\bar{X}}{\\sigma}$\n",
    "\n",
    "where $\\bar{X}$ is the mean and $\\sigma$ is the standard deviation.\n",
    "\n",
    "We can standardize our data in a few lines of code. "
   ]
  },
  {
   "cell_type": "code",
   "execution_count": null,
   "metadata": {},
   "outputs": [],
   "source": [
    "# Calculate the mean of our table with zero columns removed\n",
    "mean = None\n",
    "# and the standard deviation\n",
    "stdev = None"
   ]
  },
  {
   "cell_type": "code",
   "execution_count": null,
   "metadata": {},
   "outputs": [],
   "source": [
    "# Check out the head of each\n",
    "None\n",
    "None"
   ]
  },
  {
   "cell_type": "code",
   "execution_count": null,
   "metadata": {},
   "outputs": [],
   "source": [
    "# To standardize our data we subtract the mean...\n",
    "mel_standard = None\n",
    "# And divide by the standard devaiation\n",
    "mel_standard = None"
   ]
  },
  {
   "cell_type": "code",
   "execution_count": null,
   "metadata": {
    "scrolled": true
   },
   "outputs": [],
   "source": [
    "# Standardized data all have a mean of zero and a standard deviation of one\n",
    "mel_standard.iloc[:,:5].std()\n",
    "mel_standard.iloc[:,:5].mean()"
   ]
  },
  {
   "cell_type": "markdown",
   "metadata": {},
   "source": [
    "OK, the data is standardized and ready to plot. We've used several new methods:\n",
    "     - df.sum()   Sum\n",
    "     - df.mean()  Mean\n",
    "     - df.hist()  Histogram\n",
    "     - df.std()   Standard deviation\n",
    "\n",
    "Now let's find some genes with a lot of variance. This isn't the best way to find differentially expressed genes- we'll cover that in a few weeks."
   ]
  },
  {
   "cell_type": "markdown",
   "metadata": {},
   "source": [
    "### Finding high variance genes"
   ]
  },
  {
   "cell_type": "code",
   "execution_count": null,
   "metadata": {},
   "outputs": [],
   "source": [
    "# Sort this Series and select the 10 genes with the largest variance\n",
    "stdev.None\n",
    "topvar = stdev[:9]\n",
    "topvar"
   ]
  },
  {
   "cell_type": "code",
   "execution_count": null,
   "metadata": {},
   "outputs": [],
   "source": [
    "# We want to use the gene names, not their variance, to filter the columns of melanoma_df\n",
    "topvar.index"
   ]
  },
  {
   "cell_type": "code",
   "execution_count": null,
   "metadata": {},
   "outputs": [],
   "source": [
    "# Now we can use that Series with melanoma_df.loc to make a subtable\n",
    "topvartable = melanoma_df.loc[:,topvar.index]\n",
    "topvartable"
   ]
  },
  {
   "cell_type": "code",
   "execution_count": null,
   "metadata": {
    "scrolled": true
   },
   "outputs": [],
   "source": [
    "# Pandas has a built in method for calculating basic statistics: df.describe()\n",
    "None"
   ]
  },
  {
   "cell_type": "markdown",
   "metadata": {},
   "source": [
    "### Grouping samples \n",
    "\n",
    "Our sample melanoma dataset has three replicates for each cell line. Those strains can be grouped together with \n",
    "```python \n",
    "df.groupby(by = ['column_name'])\n",
    "```\n",
    "\n",
    "However when we do that we get something a bit odd."
   ]
  },
  {
   "cell_type": "code",
   "execution_count": null,
   "metadata": {},
   "outputs": [],
   "source": [
    "mel_by_cel = melanoma_df.groupby('cell_line')\n",
    "mel_by_cel"
   ]
  },
  {
   "cell_type": "markdown",
   "metadata": {},
   "source": [
    "We have made a \"DataFrameGroupBy\" object. What is this?\n",
    "\n",
    "This is an iterator, an object that iterates over a function, offering it one block of data at a time. To generate the mean of each gene for each cell line, we use the following:"
   ]
  },
  {
   "cell_type": "code",
   "execution_count": null,
   "metadata": {},
   "outputs": [],
   "source": [
    "melanoma_df.groupby('cell_line').mean()"
   ]
  },
  {
   "cell_type": "markdown",
   "metadata": {},
   "source": [
    " We can similarly calculate the median, min, max, variance, etc. \n",
    " \n",
    "***\n",
    "### <font color=brown>Hands on practice</font>\n",
    "Calculate the mean and standard deviation of `topvartable` for each gene, grouped by cell line."
   ]
  },
  {
   "cell_type": "code",
   "execution_count": null,
   "metadata": {},
   "outputs": [],
   "source": [
    "# You'll need to merge the metadata and the topvartable\n",
    "topvartable = None\n",
    "# Then calculate the mean\n",
    "mean_by_cell_line = None\n",
    "variance_by_cell_line = None"
   ]
  },
  {
   "cell_type": "code",
   "execution_count": null,
   "metadata": {
    "scrolled": true
   },
   "outputs": [],
   "source": [
    "# Check the values\n",
    "mean_by_cell_line\n",
    "variance_by_cell_line"
   ]
  },
  {
   "cell_type": "markdown",
   "metadata": {},
   "source": [
    "## Stats with scipy\n",
    "\n",
    "The `scipy` library expands the `numpy` suite of mathematical functions. Like `numpy`, these are broken up into sublibraries. We'll use the stats sublibary to find the correlation between samples, run a t-test on our highly variable genes, and use ANOVA on one of those genes. "
   ]
  },
  {
   "cell_type": "code",
   "execution_count": null,
   "metadata": {},
   "outputs": [],
   "source": [
    "import scipy\n",
    "from scipy import stats"
   ]
  },
  {
   "cell_type": "markdown",
   "metadata": {},
   "source": [
    "Note that we used a new method of importing. Some libraries, like scipy, have multiple sub-libraries. You can import just the sub-library using the `from` command. This saves memory and time. \n",
    "\n",
    "We are mostly going to use the stats sublibrary, but we imported all of scipy so we can look over the help file and functions."
   ]
  },
  {
   "cell_type": "code",
   "execution_count": null,
   "metadata": {},
   "outputs": [],
   "source": [
    "# As we've done before, check out the new libraries\n",
    "\n",
    "#scipy.\n",
    "#scipy?\n",
    "#stats.\n",
    "#stats?"
   ]
  },
  {
   "cell_type": "code",
   "execution_count": null,
   "metadata": {
    "scrolled": true
   },
   "outputs": [],
   "source": [
    "# Pearson correlation coefficients can provide a quick estimate of the similarity between samples\n",
    "# The function returns two values, so we provide two variable names to store the results\n",
    "# The following line compares two normal cell lines. \n",
    "corr, p = stats.pearsonr(melanoma_low_removed.loc['FM_1',:], melanoma_low_removed.loc['FM_2',:])\n",
    "corr\n",
    "p"
   ]
  },
  {
   "cell_type": "markdown",
   "metadata": {},
   "source": [
    "***\n",
    "### <font color=brown>Hands on practice</font>\n",
    "Find the correlation between FM_1 and UACC_62_1."
   ]
  },
  {
   "cell_type": "code",
   "execution_count": null,
   "metadata": {},
   "outputs": [],
   "source": [
    "# How good is the correlation between FM_1 and UACC_62_1?\n",
    "None"
   ]
  },
  {
   "cell_type": "markdown",
   "metadata": {},
   "source": [
    "***"
   ]
  },
  {
   "cell_type": "code",
   "execution_count": null,
   "metadata": {},
   "outputs": [],
   "source": [
    "# Separate the TYRP1 expression values into normal vs metastatic\n",
    "normal = topvartable.iloc[:3,0]\n",
    "metastatic = topvartable.iloc[3:6,0]\n",
    "normal\n",
    "metastatic"
   ]
  },
  {
   "cell_type": "code",
   "execution_count": null,
   "metadata": {},
   "outputs": [],
   "source": [
    "# let's test the significance of the difference in means with a t-test \n",
    "stat, p = stats.ttest_ind(normal, metastatic)\n",
    "stat\n",
    "p"
   ]
  },
  {
   "cell_type": "code",
   "execution_count": null,
   "metadata": {},
   "outputs": [],
   "source": [
    "# ANOVA lets us see if any one of the cell lines has a significant difference in the mean\n",
    "FM = topvartable.iloc[:3,0]\n",
    "SK_MEL_147 = topvartable.iloc[3:6,0]\n",
    "SK_MEL_28 = topvartable.iloc[6:9,0]\n",
    "UACC_62 = topvartable.iloc[9:,0]\n",
    "\n",
    "stats.f_oneway(FM, SK_MEL_147, SK_MEL_28, UACC_62)"
   ]
  },
  {
   "cell_type": "markdown",
   "metadata": {},
   "source": [
    "***\n",
    "### <font color=brown>Hands on practice</font>\n",
    "Write a for loop to see how many of the topvartable genes have at least one cell line with significantly different means"
   ]
  },
  {
   "cell_type": "code",
   "execution_count": null,
   "metadata": {},
   "outputs": [],
   "source": [
    "for i in np.arange(None):\n",
    "    FM = None\n",
    "    SK_MEL_147 = None\n",
    "    SK_MEL_28 = None\n",
    "    UACC_62 = None\n",
    "\n",
    "    stat, p = None\n",
    "    print(topvartable.columns[i],\":\",p)"
   ]
  },
  {
   "cell_type": "markdown",
   "metadata": {},
   "source": [
    "### Random number generators\n",
    "\n",
    "Random numbers are a good way of simulating expected results or sampling a random subset of data. \n",
    "\n",
    "NumPy stores these functions in the np.random sub-library. That makes it a little confusing as you'll have to repeat yourself a bit.\n",
    "\n",
    "Random numbers can be taken from a uniform distribution (all numbers equally possible) or from a normal distribution (a 'bell-shape' centered on the mean) or many other distributions we won't cover here. \n",
    "\n",
    "For the rest of the class, try out these random number generators."
   ]
  },
  {
   "cell_type": "code",
   "execution_count": null,
   "metadata": {},
   "outputs": [],
   "source": [
    "# We will start by setting a random seed so that all our random variables match\n",
    "np.random.seed(42)"
   ]
  },
  {
   "cell_type": "code",
   "execution_count": null,
   "metadata": {},
   "outputs": [],
   "source": [
    "# A random integer with randint(start, stop(not included), number of values desired)\n",
    "np.random.randint(1, 11, 9)"
   ]
  },
  {
   "cell_type": "code",
   "execution_count": null,
   "metadata": {},
   "outputs": [],
   "source": [
    "# Random integers between 0 and 10 in a 2 by 2 array\n",
    "print(np.random.randint(0, 10, size=[2,2]))"
   ]
  },
  {
   "cell_type": "code",
   "execution_count": null,
   "metadata": {},
   "outputs": [],
   "source": [
    "# Three random floating-point number between 0 and 1\n",
    "print(np.random.rand(3))"
   ]
  },
  {
   "cell_type": "code",
   "execution_count": null,
   "metadata": {},
   "outputs": [],
   "source": [
    "# Normal distribution with mean=0 and variance=1 in a 1 by 5 array\n",
    "print(np.random.randn(1, 5 ))"
   ]
  },
  {
   "cell_type": "code",
   "execution_count": null,
   "metadata": {},
   "outputs": [],
   "source": [
    "# Pick 10 items from a given list, with equal probability\n",
    "print(np.random.choice(['a', 'e', 'i', 'o', 'u'], size=10))  \n",
    "\n",
    "# Pick 10 items from a given list with a predefined probability 'p'\n",
    "print(np.random.choice(['a', 'e', 'i', 'o', 'u'], size=10, p=[0.3, .1, 0.1, 0.4, 0.1])) "
   ]
  }
 ],
 "metadata": {
  "kernelspec": {
   "display_name": "Python 3",
   "language": "python",
   "name": "python3"
  },
  "language_info": {
   "codemirror_mode": {
    "name": "ipython",
    "version": 3
   },
   "file_extension": ".py",
   "mimetype": "text/x-python",
   "name": "python",
   "nbconvert_exporter": "python",
   "pygments_lexer": "ipython3",
   "version": "3.6.8"
  }
 },
 "nbformat": 4,
 "nbformat_minor": 2
}
